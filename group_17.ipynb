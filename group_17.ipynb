{
 "cells": [
  {
   "cell_type": "code",
   "execution_count": null,
   "metadata": {},
   "outputs": [],
   "source": [
    "# Afrah Ali - 300049798 - aali179@uottawa.ca \n",
    "# Ribhav Khosla - 300087647 - rkhos052@uottawa.ca \n",
    "# Zain Malik - 300071476 - zmali081@uottawa.ca "
   ]
  },
  {
   "cell_type": "code",
   "execution_count": 4,
   "metadata": {},
   "outputs": [],
   "source": [
    "import pandas as pd\n",
    "import numpy as np\n",
    "from sklearn.model_selection import StratifiedShuffleSplit, GridSearchCV\n",
    "from sklearn.model_selection import train_test_split\n",
    "import matplotlib.pyplot as plot\n",
    "# we can use the LabelEncoder to encode the gender feature\n",
    "from sklearn.preprocessing import OrdinalEncoder, OneHotEncoder, LabelEncoder\n",
    "from sklearn.preprocessing import StandardScaler, MinMaxScaler\n",
    "# importing two different imputation methods that take into consideration all the features when predicting the missing values\n",
    "from sklearn.impute import KNNImputer\n",
    "from sklearn.experimental import enable_iterative_imputer\n",
    "from sklearn.impute import IterativeImputer\n",
    "from sklearn.impute import SimpleImputer\n",
    "\n",
    "from sklearn.pipeline import Pipeline\n",
    "from sklearn.compose import ColumnTransformer\n",
    "\n",
    "from sklearn.svm import SVC\n",
    "from sklearn.ensemble import RandomForestClassifier\n",
    "from sklearn.tree import DecisionTreeClassifier\n",
    "from sklearn.naive_bayes import GaussianNB\n",
    "\n",
    "from sklearn.metrics import classification_report\n",
    "from sklearn.metrics import confusion_matrix\n",
    "from sklearn.metrics import accuracy_score\n",
    "from sklearn.metrics import f1_score\n",
    "from sklearn.dummy import DummyClassifier\n",
    "\n",
    "# oversample the minority class using SMOTE\n",
    "from imblearn.over_sampling import SMOTE\n",
    "from collections import Counter\n",
    "\n",
    "np.random.seed(42)"
   ]
  },
  {
   "cell_type": "markdown",
   "metadata": {},
   "source": [
    "##### Data loading and exploratory analysis (18/100)"
   ]
  },
  {
   "cell_type": "code",
   "execution_count": 5,
   "metadata": {},
   "outputs": [
    {
     "output_type": "stream",
     "name": "stdout",
     "text": [
      "Dataframe shape:  (260, 16)\n['acousticness', 'danceability', 'energy', 'instrumentalness', 'key', 'liveness', 'loudness', 'mode', 'speechiness', 'tempo', 'time_signature', 'valence']\nClass distribution:\nhappy        65\nsad          65\nstressful    65\ncalm         65\nName: mood, dtype: int64\n          track_name               artist                track_id  \\\n0        Upside Down         Jack Johnson  6shRGWCtBUOPFLFTTqXZIC   \n1        Someone New               Hozier  0efT4YKQLQx2YHbp6vgRX8   \n2       Little Talks  Of Monsters and Men  3a2tuvXCHbW5nuUckuHkKT   \n3    Heart's Content       Brandi Carlile  0pegFWSUOTiG0sLVEfxtvA   \n4     Sunday Morning             Maroon 5  4T5cqerbDXueYSVfXkIITo   \n..               ...                  ...                     ...   \n255    am ersten Tag       Hugo Vanbrooke  2gwhISMkdlhEqEP60P93Z1   \n256    Amour naturel       Massimo Pavoni  39bh8hsTP2ZBQWH0E308rT   \n257      Dawn Of Day          Sarah Seing  635M2GuMSoVunGBe7D7vWz   \n258         Luminous     Ludovico Einaudi  5RWA30VaTsYkFrkzxKL3aK   \n259     In The Stars        Rebecca Woods  2hxaiA9EtXjMlXhG6SCoW8   \n\n     acousticness  danceability   energy  instrumentalness  key  liveness  \\\n0          0.2380         0.787  0.65500          0.000171    6    0.1380   \n1          0.4270         0.446  0.53300          0.000003    7    0.3320   \n2          0.0206         0.445  0.75700          0.000000    1    0.1460   \n3          0.7240         0.564  0.20900          0.000040    3    0.1070   \n4          0.0756         0.604  0.76100          0.000000    0    0.0620   \n..            ...           ...      ...               ...  ...       ...   \n255        0.9880         0.238  0.02600          0.914000    3    0.1010   \n256        0.9920         0.351  0.00504          0.948000    0    0.0921   \n257        0.9750         0.394  0.09980          0.931000    2    0.1120   \n258        0.9920         0.307  0.00229          0.931000    1    0.0980   \n259        0.9880         0.397  0.00375          0.957000    9    0.1150   \n\n     loudness  mode  speechiness    tempo  time_signature  valence  mood  \n0      -8.339     0       0.0431  102.485               4   0.6500     1  \n1      -5.955     1       0.0460  183.810               4   0.5800     1  \n2      -5.177     1       0.0322  102.878               4   0.4210     1  \n3      -8.922     1       0.0317  109.024               4   0.4020     1  \n4      -5.227     1       0.0468   88.040               4   0.7870     1  \n..        ...   ...          ...      ...             ...      ...   ...  \n255   -32.656     0       0.0466   64.118               3   0.1690     0  \n256   -31.773     1       0.0386   97.071               4   0.0717     0  \n257   -29.231     1       0.0321  100.498               4   0.1500     0  \n258   -34.977     1       0.0519   67.775               5   0.2810     0  \n259   -38.226     1       0.0393   64.443               3   0.1100     0  \n\n[260 rows x 16 columns]\n0      1\n1      1\n2      1\n3      1\n4      1\n      ..\n255    0\n256    0\n257    0\n258    0\n259    0\nName: mood, Length: 260, dtype: int64\nShape of training feature: (208, 12)\nShape of testing feature: (52, 12)\nShape of training label: (208,)\nShape of training label: (52,)\nFeatures with notable correlation: \nenergy and acousticness = -0.7810420763557123\nloudness and acousticness = -0.5988076765335911\nloudness and energy = 0.7580720435262728\nloudness and instrumentalness = -0.6368423805926942\nvalence and danceability = 0.6017545622868735\nvalence and energy = 0.537808418082783\nMean energy for happy songs: nan\nMean energy for calm songs: nan\nMean energy for stressful songs: nan\nMean energy for sad songs: nan\nClass distribution of train set:  0    53\n1    52\n3    52\n2    51\nName: mood, dtype: int64\nClass distribution of test set:  2    14\n3    13\n1    13\n0    12\nName: mood, dtype: int64\n"
     ]
    },
    {
     "output_type": "display_data",
     "data": {
      "text/plain": "<Figure size 432x288 with 1 Axes>",
      "image/svg+xml": "<?xml version=\"1.0\" encoding=\"utf-8\" standalone=\"no\"?>\n<!DOCTYPE svg PUBLIC \"-//W3C//DTD SVG 1.1//EN\"\n  \"http://www.w3.org/Graphics/SVG/1.1/DTD/svg11.dtd\">\n<svg xmlns:xlink=\"http://www.w3.org/1999/xlink\" width=\"368.925pt\" height=\"248.518125pt\" viewBox=\"0 0 368.925 248.518125\" xmlns=\"http://www.w3.org/2000/svg\" version=\"1.1\">\n <metadata>\n  <rdf:RDF xmlns:dc=\"http://purl.org/dc/elements/1.1/\" xmlns:cc=\"http://creativecommons.org/ns#\" xmlns:rdf=\"http://www.w3.org/1999/02/22-rdf-syntax-ns#\">\n   <cc:Work>\n    <dc:type rdf:resource=\"http://purl.org/dc/dcmitype/StillImage\"/>\n    <dc:date>2022-04-11T12:30:16.551488</dc:date>\n    <dc:format>image/svg+xml</dc:format>\n    <dc:creator>\n     <cc:Agent>\n      <dc:title>Matplotlib v3.5.1, https://matplotlib.org/</dc:title>\n     </cc:Agent>\n    </dc:creator>\n   </cc:Work>\n  </rdf:RDF>\n </metadata>\n <defs>\n  <style type=\"text/css\">*{stroke-linejoin: round; stroke-linecap: butt}</style>\n </defs>\n <g id=\"figure_1\">\n  <g id=\"patch_1\">\n   <path d=\"M -0 248.518125 \nL 368.925 248.518125 \nL 368.925 0 \nL -0 0 \nL -0 248.518125 \nz\n\" style=\"fill: none\"/>\n  </g>\n  <g id=\"axes_1\">\n   <g id=\"patch_2\">\n    <path d=\"M 26.925 224.64 \nL 361.725 224.64 \nL 361.725 7.2 \nL 26.925 7.2 \nz\n\" style=\"fill: #ffffff\"/>\n   </g>\n   <g id=\"patch_3\">\n    <path d=\"M 42.143182 224.64 \nL 72.579545 224.64 \nL 72.579545 202.609605 \nL 42.143182 202.609605 \nz\n\" clip-path=\"url(#p7729118d30)\" style=\"fill: #1f77b4\"/>\n   </g>\n   <g id=\"patch_4\">\n    <path d=\"M 72.579545 224.64 \nL 103.015909 224.64 \nL 103.015909 171.767052 \nL 72.579545 171.767052 \nz\n\" clip-path=\"url(#p7729118d30)\" style=\"fill: #1f77b4\"/>\n   </g>\n   <g id=\"patch_5\">\n    <path d=\"M 103.015909 224.64 \nL 133.452273 224.64 \nL 133.452273 136.518419 \nL 103.015909 136.518419 \nz\n\" clip-path=\"url(#p7729118d30)\" style=\"fill: #1f77b4\"/>\n   </g>\n   <g id=\"patch_6\">\n    <path d=\"M 133.452273 224.64 \nL 163.888636 224.64 \nL 163.888636 114.488024 \nL 133.452273 114.488024 \nz\n\" clip-path=\"url(#p7729118d30)\" style=\"fill: #1f77b4\"/>\n   </g>\n   <g id=\"patch_7\">\n    <path d=\"M 163.888636 224.64 \nL 194.325 224.64 \nL 194.325 48.396839 \nL 163.888636 48.396839 \nz\n\" clip-path=\"url(#p7729118d30)\" style=\"fill: #1f77b4\"/>\n   </g>\n   <g id=\"patch_8\">\n    <path d=\"M 194.325 224.64 \nL 224.761364 224.64 \nL 224.761364 48.396839 \nL 194.325 48.396839 \nz\n\" clip-path=\"url(#p7729118d30)\" style=\"fill: #1f77b4\"/>\n   </g>\n   <g id=\"patch_9\">\n    <path d=\"M 224.761364 224.64 \nL 255.197727 224.64 \nL 255.197727 17.554286 \nL 224.761364 17.554286 \nz\n\" clip-path=\"url(#p7729118d30)\" style=\"fill: #1f77b4\"/>\n   </g>\n   <g id=\"patch_10\">\n    <path d=\"M 255.197727 224.64 \nL 285.634091 224.64 \nL 285.634091 39.584681 \nL 255.197727 39.584681 \nz\n\" clip-path=\"url(#p7729118d30)\" style=\"fill: #1f77b4\"/>\n   </g>\n   <g id=\"patch_11\">\n    <path d=\"M 285.634091 224.64 \nL 316.070455 224.64 \nL 316.070455 132.11234 \nL 285.634091 132.11234 \nz\n\" clip-path=\"url(#p7729118d30)\" style=\"fill: #1f77b4\"/>\n   </g>\n   <g id=\"patch_12\">\n    <path d=\"M 316.070455 224.64 \nL 346.506818 224.64 \nL 346.506818 189.391368 \nL 316.070455 189.391368 \nz\n\" clip-path=\"url(#p7729118d30)\" style=\"fill: #1f77b4\"/>\n   </g>\n   <g id=\"matplotlib.axis_1\">\n    <g id=\"xtick_1\">\n     <g id=\"line2d_1\">\n      <path d=\"M 48.368461 224.64 \nL 48.368461 7.2 \n\" clip-path=\"url(#p7729118d30)\" style=\"fill: none; stroke: #b0b0b0; stroke-width: 0.8; stroke-linecap: square\"/>\n     </g>\n     <g id=\"line2d_2\">\n      <defs>\n       <path id=\"mdb4a22dc7a\" d=\"M 0 0 \nL 0 3.5 \n\" style=\"stroke: #000000; stroke-width: 0.8\"/>\n      </defs>\n      <g>\n       <use xlink:href=\"#mdb4a22dc7a\" x=\"48.368461\" y=\"224.64\" style=\"stroke: #000000; stroke-width: 0.8\"/>\n      </g>\n     </g>\n     <g id=\"text_1\">\n      <!-- 0.1 -->\n      <g transform=\"translate(40.416898 239.238437)scale(0.1 -0.1)\">\n       <defs>\n        <path id=\"DejaVuSans-30\" d=\"M 2034 4250 \nQ 1547 4250 1301 3770 \nQ 1056 3291 1056 2328 \nQ 1056 1369 1301 889 \nQ 1547 409 2034 409 \nQ 2525 409 2770 889 \nQ 3016 1369 3016 2328 \nQ 3016 3291 2770 3770 \nQ 2525 4250 2034 4250 \nz\nM 2034 4750 \nQ 2819 4750 3233 4129 \nQ 3647 3509 3647 2328 \nQ 3647 1150 3233 529 \nQ 2819 -91 2034 -91 \nQ 1250 -91 836 529 \nQ 422 1150 422 2328 \nQ 422 3509 836 4129 \nQ 1250 4750 2034 4750 \nz\n\" transform=\"scale(0.015625)\"/>\n        <path id=\"DejaVuSans-2e\" d=\"M 684 794 \nL 1344 794 \nL 1344 0 \nL 684 0 \nL 684 794 \nz\n\" transform=\"scale(0.015625)\"/>\n        <path id=\"DejaVuSans-31\" d=\"M 794 531 \nL 1825 531 \nL 1825 4091 \nL 703 3866 \nL 703 4441 \nL 1819 4666 \nL 2450 4666 \nL 2450 531 \nL 3481 531 \nL 3481 0 \nL 794 0 \nL 794 531 \nz\n\" transform=\"scale(0.015625)\"/>\n       </defs>\n       <use xlink:href=\"#DejaVuSans-30\"/>\n       <use xlink:href=\"#DejaVuSans-2e\" x=\"63.623047\"/>\n       <use xlink:href=\"#DejaVuSans-31\" x=\"95.410156\"/>\n      </g>\n     </g>\n    </g>\n    <g id=\"xtick_2\">\n     <g id=\"line2d_3\">\n      <path d=\"M 85.870141 224.64 \nL 85.870141 7.2 \n\" clip-path=\"url(#p7729118d30)\" style=\"fill: none; stroke: #b0b0b0; stroke-width: 0.8; stroke-linecap: square\"/>\n     </g>\n     <g id=\"line2d_4\">\n      <g>\n       <use xlink:href=\"#mdb4a22dc7a\" x=\"85.870141\" y=\"224.64\" style=\"stroke: #000000; stroke-width: 0.8\"/>\n      </g>\n     </g>\n     <g id=\"text_2\">\n      <!-- 0.2 -->\n      <g transform=\"translate(77.918578 239.238437)scale(0.1 -0.1)\">\n       <defs>\n        <path id=\"DejaVuSans-32\" d=\"M 1228 531 \nL 3431 531 \nL 3431 0 \nL 469 0 \nL 469 531 \nQ 828 903 1448 1529 \nQ 2069 2156 2228 2338 \nQ 2531 2678 2651 2914 \nQ 2772 3150 2772 3378 \nQ 2772 3750 2511 3984 \nQ 2250 4219 1831 4219 \nQ 1534 4219 1204 4116 \nQ 875 4013 500 3803 \nL 500 4441 \nQ 881 4594 1212 4672 \nQ 1544 4750 1819 4750 \nQ 2544 4750 2975 4387 \nQ 3406 4025 3406 3419 \nQ 3406 3131 3298 2873 \nQ 3191 2616 2906 2266 \nQ 2828 2175 2409 1742 \nQ 1991 1309 1228 531 \nz\n\" transform=\"scale(0.015625)\"/>\n       </defs>\n       <use xlink:href=\"#DejaVuSans-30\"/>\n       <use xlink:href=\"#DejaVuSans-2e\" x=\"63.623047\"/>\n       <use xlink:href=\"#DejaVuSans-32\" x=\"95.410156\"/>\n      </g>\n     </g>\n    </g>\n    <g id=\"xtick_3\">\n     <g id=\"line2d_5\">\n      <path d=\"M 123.371821 224.64 \nL 123.371821 7.2 \n\" clip-path=\"url(#p7729118d30)\" style=\"fill: none; stroke: #b0b0b0; stroke-width: 0.8; stroke-linecap: square\"/>\n     </g>\n     <g id=\"line2d_6\">\n      <g>\n       <use xlink:href=\"#mdb4a22dc7a\" x=\"123.371821\" y=\"224.64\" style=\"stroke: #000000; stroke-width: 0.8\"/>\n      </g>\n     </g>\n     <g id=\"text_3\">\n      <!-- 0.3 -->\n      <g transform=\"translate(115.420259 239.238437)scale(0.1 -0.1)\">\n       <defs>\n        <path id=\"DejaVuSans-33\" d=\"M 2597 2516 \nQ 3050 2419 3304 2112 \nQ 3559 1806 3559 1356 \nQ 3559 666 3084 287 \nQ 2609 -91 1734 -91 \nQ 1441 -91 1130 -33 \nQ 819 25 488 141 \nL 488 750 \nQ 750 597 1062 519 \nQ 1375 441 1716 441 \nQ 2309 441 2620 675 \nQ 2931 909 2931 1356 \nQ 2931 1769 2642 2001 \nQ 2353 2234 1838 2234 \nL 1294 2234 \nL 1294 2753 \nL 1863 2753 \nQ 2328 2753 2575 2939 \nQ 2822 3125 2822 3475 \nQ 2822 3834 2567 4026 \nQ 2313 4219 1838 4219 \nQ 1578 4219 1281 4162 \nQ 984 4106 628 3988 \nL 628 4550 \nQ 988 4650 1302 4700 \nQ 1616 4750 1894 4750 \nQ 2613 4750 3031 4423 \nQ 3450 4097 3450 3541 \nQ 3450 3153 3228 2886 \nQ 3006 2619 2597 2516 \nz\n\" transform=\"scale(0.015625)\"/>\n       </defs>\n       <use xlink:href=\"#DejaVuSans-30\"/>\n       <use xlink:href=\"#DejaVuSans-2e\" x=\"63.623047\"/>\n       <use xlink:href=\"#DejaVuSans-33\" x=\"95.410156\"/>\n      </g>\n     </g>\n    </g>\n    <g id=\"xtick_4\">\n     <g id=\"line2d_7\">\n      <path d=\"M 160.873501 224.64 \nL 160.873501 7.2 \n\" clip-path=\"url(#p7729118d30)\" style=\"fill: none; stroke: #b0b0b0; stroke-width: 0.8; stroke-linecap: square\"/>\n     </g>\n     <g id=\"line2d_8\">\n      <g>\n       <use xlink:href=\"#mdb4a22dc7a\" x=\"160.873501\" y=\"224.64\" style=\"stroke: #000000; stroke-width: 0.8\"/>\n      </g>\n     </g>\n     <g id=\"text_4\">\n      <!-- 0.4 -->\n      <g transform=\"translate(152.921939 239.238437)scale(0.1 -0.1)\">\n       <defs>\n        <path id=\"DejaVuSans-34\" d=\"M 2419 4116 \nL 825 1625 \nL 2419 1625 \nL 2419 4116 \nz\nM 2253 4666 \nL 3047 4666 \nL 3047 1625 \nL 3713 1625 \nL 3713 1100 \nL 3047 1100 \nL 3047 0 \nL 2419 0 \nL 2419 1100 \nL 313 1100 \nL 313 1709 \nL 2253 4666 \nz\n\" transform=\"scale(0.015625)\"/>\n       </defs>\n       <use xlink:href=\"#DejaVuSans-30\"/>\n       <use xlink:href=\"#DejaVuSans-2e\" x=\"63.623047\"/>\n       <use xlink:href=\"#DejaVuSans-34\" x=\"95.410156\"/>\n      </g>\n     </g>\n    </g>\n    <g id=\"xtick_5\">\n     <g id=\"line2d_9\">\n      <path d=\"M 198.375181 224.64 \nL 198.375181 7.2 \n\" clip-path=\"url(#p7729118d30)\" style=\"fill: none; stroke: #b0b0b0; stroke-width: 0.8; stroke-linecap: square\"/>\n     </g>\n     <g id=\"line2d_10\">\n      <g>\n       <use xlink:href=\"#mdb4a22dc7a\" x=\"198.375181\" y=\"224.64\" style=\"stroke: #000000; stroke-width: 0.8\"/>\n      </g>\n     </g>\n     <g id=\"text_5\">\n      <!-- 0.5 -->\n      <g transform=\"translate(190.423619 239.238437)scale(0.1 -0.1)\">\n       <defs>\n        <path id=\"DejaVuSans-35\" d=\"M 691 4666 \nL 3169 4666 \nL 3169 4134 \nL 1269 4134 \nL 1269 2991 \nQ 1406 3038 1543 3061 \nQ 1681 3084 1819 3084 \nQ 2600 3084 3056 2656 \nQ 3513 2228 3513 1497 \nQ 3513 744 3044 326 \nQ 2575 -91 1722 -91 \nQ 1428 -91 1123 -41 \nQ 819 9 494 109 \nL 494 744 \nQ 775 591 1075 516 \nQ 1375 441 1709 441 \nQ 2250 441 2565 725 \nQ 2881 1009 2881 1497 \nQ 2881 1984 2565 2268 \nQ 2250 2553 1709 2553 \nQ 1456 2553 1204 2497 \nQ 953 2441 691 2322 \nL 691 4666 \nz\n\" transform=\"scale(0.015625)\"/>\n       </defs>\n       <use xlink:href=\"#DejaVuSans-30\"/>\n       <use xlink:href=\"#DejaVuSans-2e\" x=\"63.623047\"/>\n       <use xlink:href=\"#DejaVuSans-35\" x=\"95.410156\"/>\n      </g>\n     </g>\n    </g>\n    <g id=\"xtick_6\">\n     <g id=\"line2d_11\">\n      <path d=\"M 235.876862 224.64 \nL 235.876862 7.2 \n\" clip-path=\"url(#p7729118d30)\" style=\"fill: none; stroke: #b0b0b0; stroke-width: 0.8; stroke-linecap: square\"/>\n     </g>\n     <g id=\"line2d_12\">\n      <g>\n       <use xlink:href=\"#mdb4a22dc7a\" x=\"235.876862\" y=\"224.64\" style=\"stroke: #000000; stroke-width: 0.8\"/>\n      </g>\n     </g>\n     <g id=\"text_6\">\n      <!-- 0.6 -->\n      <g transform=\"translate(227.925299 239.238437)scale(0.1 -0.1)\">\n       <defs>\n        <path id=\"DejaVuSans-36\" d=\"M 2113 2584 \nQ 1688 2584 1439 2293 \nQ 1191 2003 1191 1497 \nQ 1191 994 1439 701 \nQ 1688 409 2113 409 \nQ 2538 409 2786 701 \nQ 3034 994 3034 1497 \nQ 3034 2003 2786 2293 \nQ 2538 2584 2113 2584 \nz\nM 3366 4563 \nL 3366 3988 \nQ 3128 4100 2886 4159 \nQ 2644 4219 2406 4219 \nQ 1781 4219 1451 3797 \nQ 1122 3375 1075 2522 \nQ 1259 2794 1537 2939 \nQ 1816 3084 2150 3084 \nQ 2853 3084 3261 2657 \nQ 3669 2231 3669 1497 \nQ 3669 778 3244 343 \nQ 2819 -91 2113 -91 \nQ 1303 -91 875 529 \nQ 447 1150 447 2328 \nQ 447 3434 972 4092 \nQ 1497 4750 2381 4750 \nQ 2619 4750 2861 4703 \nQ 3103 4656 3366 4563 \nz\n\" transform=\"scale(0.015625)\"/>\n       </defs>\n       <use xlink:href=\"#DejaVuSans-30\"/>\n       <use xlink:href=\"#DejaVuSans-2e\" x=\"63.623047\"/>\n       <use xlink:href=\"#DejaVuSans-36\" x=\"95.410156\"/>\n      </g>\n     </g>\n    </g>\n    <g id=\"xtick_7\">\n     <g id=\"line2d_13\">\n      <path d=\"M 273.378542 224.64 \nL 273.378542 7.2 \n\" clip-path=\"url(#p7729118d30)\" style=\"fill: none; stroke: #b0b0b0; stroke-width: 0.8; stroke-linecap: square\"/>\n     </g>\n     <g id=\"line2d_14\">\n      <g>\n       <use xlink:href=\"#mdb4a22dc7a\" x=\"273.378542\" y=\"224.64\" style=\"stroke: #000000; stroke-width: 0.8\"/>\n      </g>\n     </g>\n     <g id=\"text_7\">\n      <!-- 0.7 -->\n      <g transform=\"translate(265.426979 239.238437)scale(0.1 -0.1)\">\n       <defs>\n        <path id=\"DejaVuSans-37\" d=\"M 525 4666 \nL 3525 4666 \nL 3525 4397 \nL 1831 0 \nL 1172 0 \nL 2766 4134 \nL 525 4134 \nL 525 4666 \nz\n\" transform=\"scale(0.015625)\"/>\n       </defs>\n       <use xlink:href=\"#DejaVuSans-30\"/>\n       <use xlink:href=\"#DejaVuSans-2e\" x=\"63.623047\"/>\n       <use xlink:href=\"#DejaVuSans-37\" x=\"95.410156\"/>\n      </g>\n     </g>\n    </g>\n    <g id=\"xtick_8\">\n     <g id=\"line2d_15\">\n      <path d=\"M 310.880222 224.64 \nL 310.880222 7.2 \n\" clip-path=\"url(#p7729118d30)\" style=\"fill: none; stroke: #b0b0b0; stroke-width: 0.8; stroke-linecap: square\"/>\n     </g>\n     <g id=\"line2d_16\">\n      <g>\n       <use xlink:href=\"#mdb4a22dc7a\" x=\"310.880222\" y=\"224.64\" style=\"stroke: #000000; stroke-width: 0.8\"/>\n      </g>\n     </g>\n     <g id=\"text_8\">\n      <!-- 0.8 -->\n      <g transform=\"translate(302.92866 239.238437)scale(0.1 -0.1)\">\n       <defs>\n        <path id=\"DejaVuSans-38\" d=\"M 2034 2216 \nQ 1584 2216 1326 1975 \nQ 1069 1734 1069 1313 \nQ 1069 891 1326 650 \nQ 1584 409 2034 409 \nQ 2484 409 2743 651 \nQ 3003 894 3003 1313 \nQ 3003 1734 2745 1975 \nQ 2488 2216 2034 2216 \nz\nM 1403 2484 \nQ 997 2584 770 2862 \nQ 544 3141 544 3541 \nQ 544 4100 942 4425 \nQ 1341 4750 2034 4750 \nQ 2731 4750 3128 4425 \nQ 3525 4100 3525 3541 \nQ 3525 3141 3298 2862 \nQ 3072 2584 2669 2484 \nQ 3125 2378 3379 2068 \nQ 3634 1759 3634 1313 \nQ 3634 634 3220 271 \nQ 2806 -91 2034 -91 \nQ 1263 -91 848 271 \nQ 434 634 434 1313 \nQ 434 1759 690 2068 \nQ 947 2378 1403 2484 \nz\nM 1172 3481 \nQ 1172 3119 1398 2916 \nQ 1625 2713 2034 2713 \nQ 2441 2713 2670 2916 \nQ 2900 3119 2900 3481 \nQ 2900 3844 2670 4047 \nQ 2441 4250 2034 4250 \nQ 1625 4250 1398 4047 \nQ 1172 3844 1172 3481 \nz\n\" transform=\"scale(0.015625)\"/>\n       </defs>\n       <use xlink:href=\"#DejaVuSans-30\"/>\n       <use xlink:href=\"#DejaVuSans-2e\" x=\"63.623047\"/>\n       <use xlink:href=\"#DejaVuSans-38\" x=\"95.410156\"/>\n      </g>\n     </g>\n    </g>\n    <g id=\"xtick_9\">\n     <g id=\"line2d_17\">\n      <path d=\"M 348.381902 224.64 \nL 348.381902 7.2 \n\" clip-path=\"url(#p7729118d30)\" style=\"fill: none; stroke: #b0b0b0; stroke-width: 0.8; stroke-linecap: square\"/>\n     </g>\n     <g id=\"line2d_18\">\n      <g>\n       <use xlink:href=\"#mdb4a22dc7a\" x=\"348.381902\" y=\"224.64\" style=\"stroke: #000000; stroke-width: 0.8\"/>\n      </g>\n     </g>\n     <g id=\"text_9\">\n      <!-- 0.9 -->\n      <g transform=\"translate(340.43034 239.238437)scale(0.1 -0.1)\">\n       <defs>\n        <path id=\"DejaVuSans-39\" d=\"M 703 97 \nL 703 672 \nQ 941 559 1184 500 \nQ 1428 441 1663 441 \nQ 2288 441 2617 861 \nQ 2947 1281 2994 2138 \nQ 2813 1869 2534 1725 \nQ 2256 1581 1919 1581 \nQ 1219 1581 811 2004 \nQ 403 2428 403 3163 \nQ 403 3881 828 4315 \nQ 1253 4750 1959 4750 \nQ 2769 4750 3195 4129 \nQ 3622 3509 3622 2328 \nQ 3622 1225 3098 567 \nQ 2575 -91 1691 -91 \nQ 1453 -91 1209 -44 \nQ 966 3 703 97 \nz\nM 1959 2075 \nQ 2384 2075 2632 2365 \nQ 2881 2656 2881 3163 \nQ 2881 3666 2632 3958 \nQ 2384 4250 1959 4250 \nQ 1534 4250 1286 3958 \nQ 1038 3666 1038 3163 \nQ 1038 2656 1286 2365 \nQ 1534 2075 1959 2075 \nz\n\" transform=\"scale(0.015625)\"/>\n       </defs>\n       <use xlink:href=\"#DejaVuSans-30\"/>\n       <use xlink:href=\"#DejaVuSans-2e\" x=\"63.623047\"/>\n       <use xlink:href=\"#DejaVuSans-39\" x=\"95.410156\"/>\n      </g>\n     </g>\n    </g>\n   </g>\n   <g id=\"matplotlib.axis_2\">\n    <g id=\"ytick_1\">\n     <g id=\"line2d_19\">\n      <path d=\"M 26.925 224.64 \nL 361.725 224.64 \n\" clip-path=\"url(#p7729118d30)\" style=\"fill: none; stroke: #b0b0b0; stroke-width: 0.8; stroke-linecap: square\"/>\n     </g>\n     <g id=\"line2d_20\">\n      <defs>\n       <path id=\"mb0426ecd70\" d=\"M 0 0 \nL -3.5 0 \n\" style=\"stroke: #000000; stroke-width: 0.8\"/>\n      </defs>\n      <g>\n       <use xlink:href=\"#mb0426ecd70\" x=\"26.925\" y=\"224.64\" style=\"stroke: #000000; stroke-width: 0.8\"/>\n      </g>\n     </g>\n     <g id=\"text_10\">\n      <!-- 0 -->\n      <g transform=\"translate(13.5625 228.439219)scale(0.1 -0.1)\">\n       <use xlink:href=\"#DejaVuSans-30\"/>\n      </g>\n     </g>\n    </g>\n    <g id=\"ytick_2\">\n     <g id=\"line2d_21\">\n      <path d=\"M 26.925 180.57921 \nL 361.725 180.57921 \n\" clip-path=\"url(#p7729118d30)\" style=\"fill: none; stroke: #b0b0b0; stroke-width: 0.8; stroke-linecap: square\"/>\n     </g>\n     <g id=\"line2d_22\">\n      <g>\n       <use xlink:href=\"#mb0426ecd70\" x=\"26.925\" y=\"180.57921\" style=\"stroke: #000000; stroke-width: 0.8\"/>\n      </g>\n     </g>\n     <g id=\"text_11\">\n      <!-- 10 -->\n      <g transform=\"translate(7.2 184.378428)scale(0.1 -0.1)\">\n       <use xlink:href=\"#DejaVuSans-31\"/>\n       <use xlink:href=\"#DejaVuSans-30\" x=\"63.623047\"/>\n      </g>\n     </g>\n    </g>\n    <g id=\"ytick_3\">\n     <g id=\"line2d_23\">\n      <path d=\"M 26.925 136.518419 \nL 361.725 136.518419 \n\" clip-path=\"url(#p7729118d30)\" style=\"fill: none; stroke: #b0b0b0; stroke-width: 0.8; stroke-linecap: square\"/>\n     </g>\n     <g id=\"line2d_24\">\n      <g>\n       <use xlink:href=\"#mb0426ecd70\" x=\"26.925\" y=\"136.518419\" style=\"stroke: #000000; stroke-width: 0.8\"/>\n      </g>\n     </g>\n     <g id=\"text_12\">\n      <!-- 20 -->\n      <g transform=\"translate(7.2 140.317638)scale(0.1 -0.1)\">\n       <use xlink:href=\"#DejaVuSans-32\"/>\n       <use xlink:href=\"#DejaVuSans-30\" x=\"63.623047\"/>\n      </g>\n     </g>\n    </g>\n    <g id=\"ytick_4\">\n     <g id=\"line2d_25\">\n      <path d=\"M 26.925 92.457629 \nL 361.725 92.457629 \n\" clip-path=\"url(#p7729118d30)\" style=\"fill: none; stroke: #b0b0b0; stroke-width: 0.8; stroke-linecap: square\"/>\n     </g>\n     <g id=\"line2d_26\">\n      <g>\n       <use xlink:href=\"#mb0426ecd70\" x=\"26.925\" y=\"92.457629\" style=\"stroke: #000000; stroke-width: 0.8\"/>\n      </g>\n     </g>\n     <g id=\"text_13\">\n      <!-- 30 -->\n      <g transform=\"translate(7.2 96.256848)scale(0.1 -0.1)\">\n       <use xlink:href=\"#DejaVuSans-33\"/>\n       <use xlink:href=\"#DejaVuSans-30\" x=\"63.623047\"/>\n      </g>\n     </g>\n    </g>\n    <g id=\"ytick_5\">\n     <g id=\"line2d_27\">\n      <path d=\"M 26.925 48.396839 \nL 361.725 48.396839 \n\" clip-path=\"url(#p7729118d30)\" style=\"fill: none; stroke: #b0b0b0; stroke-width: 0.8; stroke-linecap: square\"/>\n     </g>\n     <g id=\"line2d_28\">\n      <g>\n       <use xlink:href=\"#mb0426ecd70\" x=\"26.925\" y=\"48.396839\" style=\"stroke: #000000; stroke-width: 0.8\"/>\n      </g>\n     </g>\n     <g id=\"text_14\">\n      <!-- 40 -->\n      <g transform=\"translate(7.2 52.196058)scale(0.1 -0.1)\">\n       <use xlink:href=\"#DejaVuSans-34\"/>\n       <use xlink:href=\"#DejaVuSans-30\" x=\"63.623047\"/>\n      </g>\n     </g>\n    </g>\n   </g>\n   <g id=\"patch_13\">\n    <path d=\"M 26.925 224.64 \nL 26.925 7.2 \n\" style=\"fill: none; stroke: #000000; stroke-width: 0.8; stroke-linejoin: miter; stroke-linecap: square\"/>\n   </g>\n   <g id=\"patch_14\">\n    <path d=\"M 361.725 224.64 \nL 361.725 7.2 \n\" style=\"fill: none; stroke: #000000; stroke-width: 0.8; stroke-linejoin: miter; stroke-linecap: square\"/>\n   </g>\n   <g id=\"patch_15\">\n    <path d=\"M 26.925 224.64 \nL 361.725 224.64 \n\" style=\"fill: none; stroke: #000000; stroke-width: 0.8; stroke-linejoin: miter; stroke-linecap: square\"/>\n   </g>\n   <g id=\"patch_16\">\n    <path d=\"M 26.925 7.2 \nL 361.725 7.2 \n\" style=\"fill: none; stroke: #000000; stroke-width: 0.8; stroke-linejoin: miter; stroke-linecap: square\"/>\n   </g>\n  </g>\n </g>\n <defs>\n  <clipPath id=\"p7729118d30\">\n   <rect x=\"26.925\" y=\"7.2\" width=\"334.8\" height=\"217.44\"/>\n  </clipPath>\n </defs>\n</svg>\n",
      "image/png": "[encoded data removed]"
     },
     "metadata": {
      "needs_background": "light"
     }
    }
   ],
   "source": [
    "# load the dataset\n",
    "df = pd.read_csv('dataset.csv')\n",
    "# print the dimensionality of the dataframe (1)\n",
    "print('Dataframe shape: ', df.shape)\n",
    "# print the names of the columns that can be used as features when training the machine learning model (1)\n",
    "# dropping non-features\n",
    "dataset = df.drop(columns=['mood', 'track_name', 'artist', 'track_id'])\n",
    "columns = list(dataset.columns)\n",
    "print(columns)\n",
    "\n",
    "print(\"Class distribution:\")\n",
    "print(df['mood'].value_counts())\n",
    "\n",
    "#Label encoder\n",
    "le = LabelEncoder()\n",
    "df['mood_N'] = le.fit_transform(df['mood'])\n",
    "df = df.drop(columns=['mood'])\n",
    "df = df.rename(columns={'mood_N': 'mood'})\n",
    "print(df)\n",
    "\n",
    "# split dataset for training and testing\n",
    "target = df['mood']\n",
    "print(target)\n",
    "# Set Training and Testing Data as 8:2\n",
    "x_train, x_test, y_train, y_test = train_test_split(dataset , target, \n",
    "                                                    shuffle = True, \n",
    "                                                    test_size=0.2, \n",
    "                                                    random_state=1)\n",
    "# Show the Training and Testing Data\n",
    "print('Shape of training feature:', x_train.shape)\n",
    "print('Shape of testing feature:', x_test.shape)\n",
    "print('Shape of training label:', y_train.shape)\n",
    "print('Shape of training label:', y_test.shape)\n",
    "\n",
    "# By analysing the features, the feature that has the closest rough approximation of Gaussian distribution is the danceability feature\n",
    "dataset[\"danceability\"].hist()\n",
    "\n",
    "# identify features that represent a notable correlation (i.e., either positive or negative correlation below or above -0.5 and 0.5) (3)\n",
    "# TODO: possibly drop correlated features\n",
    "print(\"Features with notable correlation: \")\n",
    "all_corr = dataset.corr()\n",
    "for i in range(len(all_corr)):\n",
    "    for j in range(i):\n",
    "        if all_corr.iloc[i, j] > 0.5 or all_corr.iloc[i, j] < -0.5:\n",
    "            print(str(all_corr.columns[i]) + \" and \" + str(all_corr.columns[j]) + \" = \" + str(all_corr.iloc[i, j]))\n",
    "\n",
    "# Comparing energy values across moods\n",
    "print(\"Mean energy for happy songs:\", df.loc[df['mood'] == 'happy']['energy'].mean())\n",
    "print(\"Mean energy for calm songs:\", df.loc[df['mood'] == 'calm']['energy'].mean())\n",
    "print(\"Mean energy for stressful songs:\", df.loc[df['mood'] == 'stressful']['energy'].mean())\n",
    "print(\"Mean energy for sad songs:\", df.loc[df['mood'] == 'sad']['energy'].mean())\n",
    "\n",
    "# Proportional class distribution\n",
    "\n",
    "print(\"Class distribution of train set: \", y_train.value_counts())\n",
    "print(\"Class distribution of test set: \", y_test.value_counts())\n"
   ]
  },
  {
   "cell_type": "markdown",
   "metadata": {},
   "source": [
    "##### Model development (64/100)"
   ]
  },
  {
   "cell_type": "code",
   "execution_count": 6,
   "metadata": {},
   "outputs": [
    {
     "output_type": "stream",
     "name": "stdout",
     "text": [
      "     acousticness  danceability    energy  instrumentalness       key  \\\n0       -0.514931      1.492572  0.722318         -0.521550  0.840425   \n1       -1.219636     -0.862821  1.798226          0.938070 -1.130040   \n2        0.624283      0.145786 -1.325003         -0.513296 -0.567050   \n3       -1.151568      0.869609  1.028061         -0.522125  0.840425   \n4       -1.195381      0.181384  1.666640         -0.522150 -0.567050   \n..            ...           ...       ...               ...       ...   \n203     -1.204702      0.549228  1.763394         -0.522150  1.684910   \n204      1.622533     -1.729035 -1.855216          2.741031 -0.567050   \n205      1.490200     -1.645974 -0.740607          1.891319 -0.004060   \n206     -0.799735      1.878216  0.335301         -0.522150 -0.004060   \n207     -1.109279      1.130660  1.105465         -0.522150 -1.130040   \n\n     liveness  loudness      mode  speechiness     tempo  time_signature  \\\n0   -0.338574  1.054692  0.814862    -0.462733 -0.159875        0.190148   \n1    1.684990  1.496363  0.814862     1.842155  2.261113        0.190148   \n2   -0.420832 -0.917555  0.814862    -0.384327 -0.467487        0.190148   \n3   -0.511317  1.021613  0.814862    -0.252883 -0.576529        0.190148   \n4   -0.025991  0.657070  0.814862    -0.303616 -0.090002        0.190148   \n..        ...       ...       ...          ...       ...             ...   \n203 -0.647866  1.102116 -1.227202     0.965860 -0.037824        0.190148   \n204 -0.519543 -3.869511 -1.227202    -0.272484 -1.798091       -2.446569   \n205 -0.616608 -1.429266 -1.227202    -0.340512 -1.415570        0.190148   \n206  0.771919  0.552938 -1.227202     2.418665  0.646643        0.190148   \n207 -0.058894  0.850480  0.814862     0.619954 -0.470809        0.190148   \n\n      valence  \n0    1.656351  \n1    0.442172  \n2   -0.883951  \n3    0.980372  \n4    0.127864  \n..        ...  \n203  0.463700  \n204 -0.741867  \n205 -0.608393  \n206  1.789824  \n207  1.785519  \n\n[208 rows x 12 columns]\n"
     ]
    }
   ],
   "source": [
    "# Scaling numerical data\n",
    "\n",
    "#Numerical pipeline for all data\n",
    "num_pipeline = Pipeline([\n",
    "        ('std_scaler', StandardScaler()),\n",
    "    ])\n",
    "\n",
    "# Sending data through pipeline to get fully transformed data\n",
    "# 2D Numpy array\n",
    "columns_transformed = ['acousticness', 'danceability', 'energy', 'instrumentalness', 'key', 'liveness', 'loudness', 'mode', 'speechiness', 'tempo', 'time_signature', 'valence']\n",
    "train_data_transformed = pd.DataFrame(num_pipeline.fit_transform(x_train), columns=columns_transformed)\n",
    "print(train_data_transformed)\n",
    "\n",
    "# Creating pipelines for models\n",
    "pipeline_svm = Pipeline([('scaler', StandardScaler())])\n",
    "pipeline_dtc = Pipeline([('scaler', StandardScaler())])\n",
    "pipeline_rfc = Pipeline([('scaler', StandardScaler())])\n",
    "pipeline_gnb = Pipeline([('scaler', StandardScaler())])"
   ]
  },
  {
   "cell_type": "code",
   "execution_count": 7,
   "metadata": {},
   "outputs": [],
   "source": [
    "# create the following four different models with their default hyperparameter values to be trained using the preprocessed data (0.5 * 4)\n",
    "# Support Vector Machine\n",
    "svm = SVC()\n",
    "pipeline_svm.steps.append(['model', svm])\n",
    "# Decision Trees\n",
    "dtc = DecisionTreeClassifier()\n",
    "pipeline_dtc.steps.append(['model', dtc])\n",
    "# Random Forests\n",
    "rfc = RandomForestClassifier()\n",
    "pipeline_rfc.steps.append(['model', rfc])\n",
    "# Naive Bayes\n",
    "gnb = GaussianNB()\n",
    "pipeline_gnb.steps.append(['model', gnb])\n"
   ]
  },
  {
   "cell_type": "code",
   "execution_count": 9,
   "metadata": {},
   "outputs": [
    {
     "output_type": "stream",
     "name": "stdout",
     "text": [
      "Support Vector Machine Best Parameters:  {'model__C': 500, 'model__gamma': 0.001, 'model__kernel': 'rbf'}\nDecision Trees Best Parameters:  {'model__max_depth': 5, 'model__min_samples_leaf': 20, 'model__min_samples_split': 45}\nRandom Forests Best Parameters:  {'model__bootstrap': True, 'model__max_depth': 13, 'model__n_estimators': 200}\nNaive Bayes Best Parameters:  {}\nSupport Vector Machine Best Estimator:  Pipeline(steps=[('scaler', StandardScaler()),\n                ['model', SVC(C=500, gamma=0.001)]])\nDecision Trees Best Estimator:  Pipeline(steps=[('scaler', StandardScaler()),\n                ['model',\n                 DecisionTreeClassifier(max_depth=5, min_samples_leaf=20,\n                                        min_samples_split=45)]])\nRandom Forests Best Estimator:  Pipeline(steps=[('scaler', StandardScaler()),\n                ['model',\n                 RandomForestClassifier(max_depth=13, n_estimators=200)]])\nNaive Bayes Best Estimator:  Pipeline(steps=[('scaler', StandardScaler()), ['model', GaussianNB()]])\nSupport Vector Machine Best Score:  0.6372727272727273\nDecision Trees Best Score:  0.494090909090909\nRandom Forests Best Score:  0.650909090909091\nNaive Bayes Best Score:  0.5522727272727271\n"
     ]
    }
   ],
   "source": [
    "# This cell should take 3-5 minutes to run\n",
    "\n",
    "# use sklearn GridSearchCV to train your selected model with hyperparameter tuning\n",
    "# state briefly the advantage of using cross-validation in the markdown cell below (2)\n",
    "\n",
    "# finetune 2 or more of the hyperparameters mentioned below and use at least 2 different values for each hyperparameter except for the Naive Bayes algorithm(use param_grid={}) (8)\n",
    "# parameters for SVC:\n",
    "    # C -> e.g., 10, 100\n",
    "    # gamma ->  e.g., 0.001, 0.0001\n",
    "    # kernel -> 'rbf' or 'linear' \n",
    "gscv_svm = GridSearchCV(pipeline_svm, param_grid={'model__kernel':['linear', 'rbf'], 'model__C':[500, 600, 700, 1000], 'model__gamma':[0.001, 0.01, 0.1, 1]})\n",
    "\n",
    "# parameters for DecisionTreeClassifier: \n",
    "    # max_depth ->  e.g., 3, 4\n",
    "    # min_samples_split -> 5, 10\n",
    "    # min_samples_leaf -> 10, 20\n",
    "\n",
    "gscv_dtc = GridSearchCV(pipeline_dtc, param_grid={'model__max_depth':[1, 3, 5, 8, 10], 'model__min_samples_split':[5,10,15,20,25,30,35,40,45,50], 'model__min_samples_leaf':[10, 20, 30, 40, 50, 60, 70, 80, 90, 100]})\n",
    "\n",
    "# parameters for RandomForestClassifier: \n",
    "    # n_estimators -> 100, 200\n",
    "    # max_depth -> 3, 5\n",
    "    # bootstrap -> True, False\n",
    "gscv_rfc = GridSearchCV(pipeline_rfc, param_grid={'model__n_estimators':[50, 100, 200, 300, 400], 'model__max_depth':[3, 5, 7, 9, 11, 13, 15, 17, 19, 21, 23, 25], 'model__bootstrap':[True, False]})\n",
    "\n",
    "# parameters for Naive Bayes:\n",
    "gscv_gnb = GridSearchCV(pipeline_gnb, param_grid={})\n",
    "\n",
    "# initialize gridsearch with the required parameters, including the following scoring methods and refit='bal_accuracy' (2)\n",
    "scoring = {\"accuracy\": \"accuracy\", \"bal_accuracy\": \"balanced_accuracy\", \"F1_macro\": \"f1_macro\"}\n",
    "gscv_svm.set_params(scoring=scoring, refit='bal_accuracy')\n",
    "gscv_dtc.set_params(scoring=scoring, refit='bal_accuracy')\n",
    "gscv_rfc.set_params(scoring=scoring, refit='bal_accuracy')\n",
    "gscv_gnb.set_params(scoring=scoring, refit='bal_accuracy')\n",
    "\n",
    "# fit the training data (0.5)\n",
    "gscv_svm.fit(train_data_transformed, y_train)\n",
    "gscv_dtc.fit(train_data_transformed, y_train)\n",
    "gscv_rfc.fit(train_data_transformed, y_train)\n",
    "gscv_gnb.fit(train_data_transformed, y_train)\n",
    "\n",
    "# print the best parameters (0.5)\n",
    "print(\"Support Vector Machine Best Parameters: \", gscv_svm.best_params_)\n",
    "print(\"Decision Trees Best Parameters: \", gscv_dtc.best_params_)\n",
    "print(\"Random Forests Best Parameters: \", gscv_rfc.best_params_)\n",
    "print(\"Naive Bayes Best Parameters: \", gscv_gnb.best_params_)\n",
    "\n",
    "# print the best estimator (0.5)\n",
    "print(\"Support Vector Machine Best Estimator: \", gscv_svm.best_estimator_)\n",
    "print(\"Decision Trees Best Estimator: \", gscv_dtc.best_estimator_)\n",
    "print(\"Random Forests Best Estimator: \", gscv_rfc.best_estimator_)\n",
    "print(\"Naive Bayes Best Estimator: \", gscv_gnb.best_estimator_)\n",
    "\n",
    "# print the best score from trained GridSearchCV model (0.5)\n",
    "print(\"Support Vector Machine Best Score: \", gscv_svm.best_score_)\n",
    "print(\"Decision Trees Best Score: \", gscv_dtc.best_score_)\n",
    "print(\"Random Forests Best Score: \", gscv_rfc.best_score_)\n",
    "print(\"Naive Bayes Best Score: \", gscv_gnb.best_score_)"
   ]
  },
  {
   "cell_type": "markdown",
   "metadata": {},
   "source": [
    "Why should you use cross-validation? \n",
    "\n",
    "Cross-validation allows us to generate larger test data sets for our model to predict, by using the entire dataset and dividing into sections. This helps train our model when we don't have a lot of data by judging how accuratley models perform on sections of data. This is a good indication of how well our model would perform with all the data.  "
   ]
  },
  {
   "cell_type": "code",
   "execution_count": 10,
   "metadata": {
    "tags": [
     "outputPrepend"
    ]
   },
   "outputs": [
    {
     "output_type": "stream",
     "name": "stdout",
     "text": [
      ".71136364,\n       0.71136364, 0.71136364, 0.70909091, 0.68636364, 0.66136364,\n       0.65909091, 0.73636364, 0.68636364, 0.66136364, 0.66136364,\n       0.66136364, 0.68636364, 0.68636364, 0.66136364, 0.68636364,\n       0.66136364, 0.61136364, 0.65909091, 0.66136364, 0.63636364,\n       0.65909091, 0.61136364, 0.65909091, 0.63636364, 0.63636364,\n       0.65909091, 0.65909091, 0.63636364, 0.63636364, 0.63636364,\n       0.66136364, 0.61136364, 0.65909091, 0.63636364, 0.65909091,\n       0.68409091, 0.63409091, 0.65909091, 0.66136364, 0.63636364,\n       0.58636364, 0.63636364, 0.65909091, 0.65909091, 0.63636364,\n       0.61136364, 0.63636364, 0.61136364, 0.65909091, 0.65909091,\n       0.65909091, 0.65909091, 0.63636364, 0.63636364, 0.63636364,\n       0.60909091, 0.61136364, 0.63636364, 0.65909091, 0.65909091,\n       0.61136364, 0.63636364, 0.65909091, 0.65909091, 0.63636364,\n       0.65909091, 0.63636364, 0.63636364, 0.63636364, 0.63636364]), 'split4_test_bal_accuracy': array([0.51590909, 0.53863636, 0.50909091, 0.58636364, 0.58636364,\n       0.53636364, 0.56363636, 0.58636364, 0.58636364, 0.60909091,\n       0.60909091, 0.58636364, 0.58409091, 0.58409091, 0.63409091,\n       0.58181818, 0.58636364, 0.58409091, 0.58636364, 0.60909091,\n       0.60909091, 0.56363636, 0.60909091, 0.60909091, 0.56136364,\n       0.56363636, 0.58409091, 0.60909091, 0.58409091, 0.60909091,\n       0.60909091, 0.58409091, 0.63409091, 0.58636364, 0.60681818,\n       0.60909091, 0.60681818, 0.60909091, 0.58636364, 0.58636364,\n       0.60909091, 0.56136364, 0.63181818, 0.58409091, 0.60909091,\n       0.53863636, 0.60909091, 0.58636364, 0.56136364, 0.58409091,\n       0.58409091, 0.60909091, 0.58636364, 0.56136364, 0.63181818,\n       0.55909091, 0.58409091, 0.55909091, 0.63409091, 0.60909091,\n       0.48636364, 0.48863636, 0.48863636, 0.48863636, 0.48863636,\n       0.51136364, 0.56136364, 0.53636364, 0.53636364, 0.53636364,\n       0.56136364, 0.61136364, 0.58863636, 0.58636364, 0.58636364,\n       0.53409091, 0.60909091, 0.60909091, 0.61136364, 0.61136364,\n       0.60454545, 0.56136364, 0.56363636, 0.58636364, 0.60909091,\n       0.53636364, 0.60681818, 0.58636364, 0.53636364, 0.58636364,\n       0.56363636, 0.55909091, 0.56136364, 0.58409091, 0.56363636,\n       0.60681818, 0.58636364, 0.63181818, 0.58636364, 0.58636364,\n       0.53863636, 0.55909091, 0.53863636, 0.56363636, 0.53636364,\n       0.61136364, 0.53863636, 0.60909091, 0.60909091, 0.61136364,\n       0.51363636, 0.56136364, 0.53863636, 0.61136364, 0.53636364,\n       0.60909091, 0.58636364, 0.61136364, 0.58636364, 0.60909091]), 'mean_test_bal_accuracy': array([0.59818182, 0.62181818, 0.59772727, 0.62272727, 0.63727273,\n       0.59681818, 0.63272727, 0.62227273, 0.63181818, 0.64136364,\n       0.61636364, 0.62636364, 0.63636364, 0.62636364, 0.63636364,\n       0.58636364, 0.63590909, 0.62590909, 0.61227273, 0.64590909,\n       0.63181818, 0.63181818, 0.64545455, 0.62181818, 0.62636364,\n       0.60318182, 0.60636364, 0.65090909, 0.63090909, 0.63636364,\n       0.58909091, 0.61272727, 0.63681818, 0.64590909, 0.63545455,\n       0.65      , 0.64045455, 0.63590909, 0.62681818, 0.61727273,\n       0.62227273, 0.63181818, 0.64045455, 0.62136364, 0.64590909,\n       0.63181818, 0.62636364, 0.63681818, 0.62181818, 0.63545455,\n       0.64136364, 0.64045455, 0.63136364, 0.63636364, 0.62590909,\n       0.63045455, 0.64045455, 0.63090909, 0.62681818, 0.63136364,\n       0.58681818, 0.58318182, 0.59227273, 0.59681818, 0.59227273,\n       0.59727273, 0.59727273, 0.59681818, 0.60727273, 0.59636364,\n       0.60636364, 0.61636364, 0.62181818, 0.62590909, 0.60727273,\n       0.61090909, 0.62590909, 0.61681818, 0.62136364, 0.62136364,\n       0.62454545, 0.60681818, 0.61136364, 0.61636364, 0.63045455,\n       0.60090909, 0.61090909, 0.62545455, 0.61636364, 0.62590909,\n       0.58727273, 0.60545455, 0.625     , 0.62045455, 0.62636364,\n       0.61045455, 0.60181818, 0.62954545, 0.62590909, 0.63090909,\n       0.60590909, 0.62545455, 0.61636364, 0.62636364, 0.61181818,\n       0.62      , 0.60681818, 0.62045455, 0.63045455, 0.62090909,\n       0.58272727, 0.61590909, 0.60636364, 0.62636364, 0.61136364,\n       0.635     , 0.62090909, 0.63090909, 0.61636364, 0.62545455]), 'std_test_bal_accuracy': array([0.07484695, 0.05243256, 0.07678994, 0.06512861, 0.05278602,\n       0.03646577, 0.05927593, 0.0661266 , 0.05758572, 0.03916483,\n       0.07251959, 0.06380821, 0.05708121, 0.05044431, 0.05821022,\n       0.04617609, 0.05530531, 0.04542272, 0.04323203, 0.04660809,\n       0.04819039, 0.04979296, 0.05168644, 0.0631082 , 0.06291146,\n       0.08327739, 0.0382575 , 0.03295376, 0.05017737, 0.03506193,\n       0.05928987, 0.075564  , 0.05344341, 0.03963678, 0.04569482,\n       0.03783937, 0.04250425, 0.05430629, 0.05135358, 0.05927593,\n       0.05717886, 0.06078005, 0.03215407, 0.05512195, 0.04591584,\n       0.05803248, 0.04901088, 0.0387405 , 0.0401598 , 0.05419585,\n       0.07288902, 0.06124399, 0.05670716, 0.06043916, 0.03580826,\n       0.03887892, 0.06359414, 0.05129722, 0.04877423, 0.05145406,\n       0.0585182 , 0.07850093, 0.07386329, 0.06515398, 0.07417034,\n       0.05885267, 0.04737751, 0.05804316, 0.04986345, 0.04938883,\n       0.04353682, 0.02904826, 0.04922121, 0.0258572 , 0.0466524 ,\n       0.0601891 , 0.032891  , 0.04553629, 0.04530886, 0.04530886,\n       0.03215407, 0.03627831, 0.04285763, 0.04682921, 0.04039065,\n       0.06501112, 0.04528149, 0.04421959, 0.05602907, 0.04174895,\n       0.03196718, 0.03995349, 0.03970449, 0.05049343, 0.04069642,\n       0.03047828, 0.03313509, 0.03255637, 0.04368369, 0.04325592,\n       0.04943064, 0.04631905, 0.05350137, 0.04267889, 0.05090909,\n       0.0188184 , 0.05075871, 0.03076168, 0.0268759 , 0.04948913,\n       0.05558851, 0.04047752, 0.05334668, 0.03267041, 0.05281341,\n       0.03454545, 0.04162008, 0.0380463 , 0.04746465, 0.0387405 ]), 'rank_test_bal_accuracy': array([105,  64, 106,  61,  13, 111,  25,  62,  26,   7,  78,  43,  17,\n        43,  16, 118,  21,  55,  86,   3,  26,  26,   6,  67,  43, 102,\n        99,   1,  35,  17, 115,  85,  15,   3,  22,   2,  10,  20,  41,\n        76,  62,  26,   9,  68,   3,  30,  43,  14,  64,  22,   7,  10,\n        31,  17,  51,  37,  10,  33,  42,  32, 117, 119, 113, 110, 114,\n       108, 107, 109,  93, 112,  97,  79,  64,  51,  93,  90,  50,  77,\n        68,  68,  60,  95,  88,  79,  37, 104,  91,  56,  83,  51, 116,\n       101,  59,  74,  48,  92, 103,  40,  51,  33, 100,  56,  79,  48,\n        87,  75,  96,  73,  37,  71, 120,  84,  98,  43,  88,  24,  71,\n        35,  79,  58], dtype=int32), 'split0_test_F1_macro': array([0.54517837, 0.61401638, 0.561234  , 0.561234  , 0.59054233,\n       0.61606754, 0.61076451, 0.54048822, 0.59409341, 0.62224599,\n       0.53571429, 0.54232804, 0.66265022, 0.63981684, 0.5628259 ,\n       0.54647436, 0.5667328 , 0.5667328 , 0.5667328 , 0.60644911,\n       0.63724476, 0.64104719, 0.5628259 , 0.59409341, 0.5667328 ,\n       0.49047619, 0.56548822, 0.64507937, 0.5628259 , 0.58077887,\n       0.53895313, 0.55105311, 0.60644911, 0.61076451, 0.61842814,\n       0.6417328 , 0.61135478, 0.64104719, 0.5667328 , 0.5667328 ,\n       0.55357497, 0.61040507, 0.58906253, 0.5667328 , 0.61550563,\n       0.61287205, 0.58906253, 0.63359788, 0.58799619, 0.59409341,\n       0.61723766, 0.56392322, 0.58474712, 0.63981684, 0.59106754,\n       0.64563853, 0.56526892, 0.58675214, 0.58799619, 0.5628259 ,\n       0.58474659, 0.5378259 , 0.56520685, 0.59054233, 0.54166667,\n       0.55793984, 0.61554233, 0.58940914, 0.58346028, 0.58809524,\n       0.61165577, 0.61165577, 0.61165577, 0.61165577, 0.61165577,\n       0.61554233, 0.61165577, 0.58821549, 0.61163542, 0.61163542,\n       0.58847282, 0.61554233, 0.58429233, 0.61375661, 0.61607143,\n       0.58665293, 0.61175214, 0.61165577, 0.61165577, 0.6417328 ,\n       0.58821549, 0.58429233, 0.63859813, 0.61165577, 0.61165577,\n       0.58901638, 0.59292328, 0.61418103, 0.61554233, 0.6417328 ,\n       0.59288847, 0.58787594, 0.6417328 , 0.64301378, 0.58787594,\n       0.63859813, 0.62421329, 0.61607143, 0.61607143, 0.58847282,\n       0.58847282, 0.64171245, 0.61165577, 0.61163542, 0.61163542,\n       0.61399359, 0.61165577, 0.64301378, 0.61163542, 0.61163542]), 'split1_test_F1_macro': array([0.55273126, 0.59601449, 0.5173454 , 0.54647059, 0.58767974,\n       0.57317388, 0.57564679, 0.57340041, 0.57340041, 0.59857204,\n       0.5506813 , 0.5990495 , 0.5469697 , 0.5469697 , 0.5719697 ,\n       0.52350427, 0.61421053, 0.61460925, 0.5719697 , 0.59492481,\n       0.54220551, 0.59483709, 0.63864662, 0.5198045 , 0.59599097,\n       0.54732986, 0.5719697 , 0.61571429, 0.61452381, 0.60897436,\n       0.47896876, 0.52435436, 0.54690476, 0.63921053, 0.57071429,\n       0.62002833, 0.5952381 , 0.54966963, 0.58974359, 0.54515406,\n       0.5494711 , 0.56789474, 0.61452381, 0.5719697 , 0.59071429,\n       0.6138664 , 0.5719697 , 0.59188198, 0.61452381, 0.59469697,\n       0.54288499, 0.59707322, 0.57360793, 0.5685213 , 0.57326369,\n       0.6138664 , 0.61881978, 0.61417968, 0.54729214, 0.59037016,\n       0.57655007, 0.52262759, 0.55350085, 0.57699709, 0.57249555,\n       0.56821256, 0.52188215, 0.52083333, 0.57564679, 0.55152456,\n       0.54777569, 0.5685213 , 0.54293651, 0.6138664 , 0.51361255,\n       0.53859761, 0.5621345 , 0.52874834, 0.54514411, 0.54526316,\n       0.59157895, 0.56113039, 0.56495726, 0.542154  , 0.56495726,\n       0.525     , 0.51412184, 0.57157895, 0.56831984, 0.56568826,\n       0.54870501, 0.56657268, 0.59229323, 0.54789474, 0.61123482,\n       0.57051282, 0.54360902, 0.59273504, 0.56568826, 0.56129908,\n       0.57238922, 0.61123482, 0.56831984, 0.58418803, 0.5869883 ,\n       0.59526942, 0.56789474, 0.57083333, 0.5877193 , 0.54526316,\n       0.51412184, 0.5685213 , 0.54777569, 0.56129908, 0.56495726,\n       0.59629187, 0.5665873 , 0.56789474, 0.54515873, 0.57083333]), 'split2_test_F1_macro': array([0.69507576, 0.69967391, 0.69896536, 0.69896536, 0.69896536,\n       0.64972293, 0.69896536, 0.69681677, 0.7170671 , 0.69896536,\n       0.74193514, 0.69540514, 0.69681677, 0.67366601, 0.7170671 ,\n       0.64919772, 0.69507576, 0.69507576, 0.67093685, 0.7170671 ,\n       0.69646206, 0.65151515, 0.69507576, 0.7170671 , 0.7170671 ,\n       0.694417  , 0.64962121, 0.69507576, 0.69507576, 0.69507576,\n       0.60662526, 0.69217532, 0.7170671 , 0.69507576, 0.69507576,\n       0.72211612, 0.67267787, 0.67366601, 0.69507576, 0.69507576,\n       0.69681677, 0.69466783, 0.67366601, 0.69507576, 0.69507576,\n       0.7170671 , 0.72070449, 0.69507576, 0.67234848, 0.69507576,\n       0.74462011, 0.7170671 , 0.69681677, 0.7170671 , 0.67366601,\n       0.66781258, 0.69863598, 0.69507576, 0.69507576, 0.7170671 ,\n       0.63293478, 0.67598344, 0.67598344, 0.67598344, 0.67598344,\n       0.67366601, 0.67366601, 0.67366601, 0.67366601, 0.67366601,\n       0.64995059, 0.67267787, 0.69507576, 0.67366601, 0.67366601,\n       0.69507576, 0.67366601, 0.69507576, 0.69507576, 0.69507576,\n       0.67524994, 0.67366601, 0.67366601, 0.69507576, 0.69507576,\n       0.67366601, 0.67366601, 0.69507576, 0.69507576, 0.69507576,\n       0.6517698 , 0.67366601, 0.67366601, 0.69507576, 0.69507576,\n       0.67366601, 0.65151515, 0.69507576, 0.69507576, 0.69507576,\n       0.67366601, 0.69507576, 0.69507576, 0.69507576, 0.69507576,\n       0.64995059, 0.69507576, 0.67598344, 0.67366601, 0.69507576,\n       0.67366601, 0.67366601, 0.67366601, 0.67366601, 0.69507576,\n       0.69507576, 0.69507576, 0.69507576, 0.69507576, 0.69507576]), 'split3_test_F1_macro': array([0.68      , 0.65789474, 0.68222816, 0.70647059, 0.70647059,\n       0.60614035, 0.7060559 , 0.70647059, 0.68333333, 0.68170426,\n       0.63309924, 0.70833333, 0.68170426, 0.68170426, 0.68245614,\n       0.63506865, 0.7060559 , 0.65931677, 0.66006865, 0.68170426,\n       0.6595614 , 0.71008772, 0.70380952, 0.65931677, 0.68245614,\n       0.70877193, 0.66      , 0.68638444, 0.68245614, 0.65931677,\n       0.67784993, 0.7045614 , 0.65931677, 0.68567251, 0.68170426,\n       0.65603175, 0.7045614 , 0.70833333, 0.68245614, 0.68245614,\n       0.68170426, 0.71008772, 0.68506865, 0.68506865, 0.7045614 ,\n       0.66      , 0.63638444, 0.65877193, 0.66006865, 0.71008772,\n       0.70833333, 0.70380952, 0.70909091, 0.68245614, 0.66006865,\n       0.6599681 , 0.73115731, 0.68245614, 0.65931677, 0.65931677,\n       0.65569724, 0.68103199, 0.68103199, 0.65647059, 0.68103199,\n       0.65877193, 0.60833333, 0.65707071, 0.66006865, 0.63638444,\n       0.65707071, 0.61082053, 0.65707071, 0.63391994, 0.63391994,\n       0.6599681 , 0.65707071, 0.63391994, 0.63391994, 0.63391994,\n       0.66006865, 0.60891994, 0.65707071, 0.63391994, 0.65707071,\n       0.68290043, 0.63397129, 0.65512266, 0.66006865, 0.63391994,\n       0.58450474, 0.63391994, 0.65707071, 0.65707071, 0.63391994,\n       0.61082053, 0.63391994, 0.61082053, 0.65707071, 0.65707071,\n       0.65707071, 0.65707071, 0.63391994, 0.63391994, 0.63391994,\n       0.60951044, 0.61082053, 0.63391994, 0.65707071, 0.65707071,\n       0.60750361, 0.63391994, 0.65707071, 0.65707071, 0.63391994,\n       0.65636918, 0.63391994, 0.63391994, 0.63391994, 0.63391994]), 'split4_test_F1_macro': array([0.46129378, 0.5041983 , 0.4621556 , 0.55087213, 0.55087213,\n       0.49075924, 0.52593743, 0.55087213, 0.55087213, 0.5734719 ,\n       0.55480769, 0.55087213, 0.5540293 , 0.5530303 , 0.59640468,\n       0.54891304, 0.55087213, 0.5540293 , 0.55087213, 0.5744709 ,\n       0.57576366, 0.52710438, 0.5734719 , 0.5734719 , 0.53086913,\n       0.52525253, 0.5530303 , 0.5744709 , 0.5540293 , 0.5744709 ,\n       0.57154882, 0.5530303 , 0.61018519, 0.55087213, 0.57467532,\n       0.5732684 , 0.55369168, 0.5734719 , 0.55087213, 0.55087213,\n       0.58075758, 0.53086913, 0.59783217, 0.5530303 , 0.5744709 ,\n       0.50839438, 0.5744709 , 0.56593407, 0.53260073, 0.5530303 ,\n       0.5530303 , 0.58974359, 0.55087213, 0.53260073, 0.5954416 ,\n       0.51184504, 0.5530303 , 0.5285964 , 0.59640468, 0.5744709 ,\n       0.45992372, 0.44728408, 0.45184676, 0.45184676, 0.45184676,\n       0.46891026, 0.51197624, 0.4855475 , 0.4855475 , 0.4855475 ,\n       0.53283501, 0.58658642, 0.56043771, 0.55043778, 0.55043778,\n       0.48397436, 0.5750999 , 0.5734719 , 0.58593706, 0.58593706,\n       0.57111005, 0.53330549, 0.52710438, 0.55087213, 0.5734719 ,\n       0.51154762, 0.57009657, 0.55043778, 0.48728309, 0.55087213,\n       0.52710438, 0.53021978, 0.50974659, 0.54828042, 0.53551413,\n       0.5773522 , 0.55087213, 0.5970696 , 0.56018519, 0.56018519,\n       0.49022314, 0.52119917, 0.51745349, 0.53551413, 0.48728309,\n       0.58821442, 0.50247842, 0.5744709 , 0.5734719 , 0.58593706,\n       0.46611478, 0.52574463, 0.50247842, 0.58593706, 0.48728309,\n       0.57775641, 0.55087213, 0.58658642, 0.55087213, 0.5750999 ]), 'mean_test_F1_macro': array([0.58685583, 0.61435956, 0.5843857 , 0.61280253, 0.62690603,\n       0.58717279, 0.623474  , 0.61360962, 0.62375328, 0.63499191,\n       0.60324753, 0.61919763, 0.62843405, 0.61903742, 0.6261447 ,\n       0.58063161, 0.62658942, 0.61795278, 0.60411603, 0.63492324,\n       0.62224748, 0.62491831, 0.63476594, 0.61275073, 0.61862323,\n       0.5932495 , 0.60002189, 0.64334495, 0.62178218, 0.62372333,\n       0.57478918, 0.6050349 , 0.62798458, 0.63631909, 0.62811955,\n       0.64263548, 0.62750476, 0.62923761, 0.61697608, 0.60805818,\n       0.61246494, 0.6227849 , 0.63203063, 0.61437544, 0.6360656 ,\n       0.62243999, 0.61851841, 0.62905232, 0.61350757, 0.62939683,\n       0.63322128, 0.63432333, 0.62302697, 0.62809242, 0.6187015 ,\n       0.61982613, 0.63338246, 0.62141202, 0.61721711, 0.62081016,\n       0.58197048, 0.5729506 , 0.58551398, 0.59036804, 0.58460488,\n       0.58550012, 0.58628001, 0.58530534, 0.59567785, 0.58704355,\n       0.59985756, 0.61005238, 0.61343529, 0.61670918, 0.59665841,\n       0.59863163, 0.61592538, 0.60388629, 0.61434246, 0.61436627,\n       0.61729608, 0.59851283, 0.60141814, 0.60715569, 0.62132941,\n       0.5959534 , 0.60072157, 0.61677418, 0.60448062, 0.61745778,\n       0.58005988, 0.59773415, 0.61427493, 0.61199548, 0.61748009,\n       0.60427359, 0.59456791, 0.62197639, 0.61871245, 0.62307271,\n       0.59724751, 0.61449128, 0.61130037, 0.61834233, 0.59822861,\n       0.6163086 , 0.60009655, 0.61425581, 0.62159987, 0.6143639 ,\n       0.56997581, 0.60871287, 0.59852932, 0.61792166, 0.5985743 ,\n       0.62789736, 0.61162218, 0.62529813, 0.6073324 , 0.61731287]), 'std_test_F1_macro': array([0.08837954, 0.06579668, 0.09238208, 0.07361026, 0.06350628,\n       0.05403469, 0.06997295, 0.07272703, 0.06478276, 0.04805876,\n       0.07719552, 0.07033635, 0.06458663, 0.05812727, 0.062075  ,\n       0.05118793, 0.06399134, 0.053628  , 0.05071789, 0.05477447,\n       0.05602234, 0.06114541, 0.05890956, 0.06867347, 0.07024451,\n       0.09041554, 0.04526627, 0.04480752, 0.05860419, 0.04657386,\n       0.06650012, 0.07697641, 0.05704723, 0.05263209, 0.05215367,\n       0.04862165, 0.05427461, 0.0596831 , 0.0600382 , 0.0663959 ,\n       0.063798  , 0.0698622 , 0.03967069, 0.06219544, 0.05375358,\n       0.06860976, 0.05609956, 0.04610544, 0.05065169, 0.06181747,\n       0.08111502, 0.06325498, 0.06628099, 0.06881388, 0.04025318,\n       0.05705399, 0.07088856, 0.06167833, 0.05293557, 0.05862466,\n       0.06777241, 0.0914938 , 0.08557168, 0.07882449, 0.08632876,\n       0.07455683, 0.06106894, 0.07359753, 0.06768683, 0.06557763,\n       0.05123748, 0.03521532, 0.05718602, 0.03991443, 0.0575786 ,\n       0.07758863, 0.04382996, 0.05662837, 0.0500075 , 0.04997456,\n       0.04198439, 0.04836477, 0.05560969, 0.05636115, 0.04942018,\n       0.07189472, 0.0547458 , 0.05304916, 0.0726524 , 0.05291231,\n       0.04246409, 0.05056673, 0.05892328, 0.05848545, 0.05115213,\n       0.03729746, 0.04312866, 0.03742765, 0.05205721, 0.05377606,\n       0.06558926, 0.05954706, 0.06182339, 0.05434407, 0.06811119,\n       0.02411121, 0.0636929 , 0.0391628 , 0.03863631, 0.05402152,\n       0.07267587, 0.05374453, 0.06487931, 0.04221073, 0.06963947,\n       0.04249687, 0.05134277, 0.04483491, 0.05563747, 0.04538144]), 'rank_test_F1_macro': array([108,  64, 114,  71,  21, 106,  28,  68,  26,   5,  87,  41,  15,\n        42,  23, 116,  22,  48,  85,   6,  33,  25,   7,  72,  45, 104,\n        91,   1,  35,  27, 118,  82,  18,   3,  16,   2,  20,  13,  55,\n        79,  73,  31,  11,  61,   4,  32,  46,  14,  69,  12,  10,   8,\n        30,  17,  44,  40,   9,  37,  54,  39, 115, 119, 110, 105, 113,\n       111, 109, 112, 102, 107,  92,  77,  70,  57, 100,  93,  59,  86,\n        65,  62,  53,  96,  88,  81,  38, 101,  89,  56,  83,  51, 117,\n        98,  66,  74,  50,  84, 103,  34,  43,  29,  99,  60,  76,  47,\n        97,  58,  90,  67,  36,  63, 120,  78,  95,  49,  94,  19,  75,\n        24,  80,  52], dtype=int32)}\nNaive Bayes Results:  {'mean_fit_time': array([0.00513377]), 'std_fit_time': array([0.00107957]), 'mean_score_time': array([0.00447979]), 'std_score_time': array([0.00115176]), 'params': [{}], 'split0_test_accuracy': array([0.57142857]), 'split1_test_accuracy': array([0.54761905]), 'split2_test_accuracy': array([0.61904762]), 'split3_test_accuracy': array([0.46341463]), 'split4_test_accuracy': array([0.53658537]), 'mean_test_accuracy': array([0.54761905]), 'std_test_accuracy': array([0.0507564]), 'rank_test_accuracy': array([1], dtype=int32), 'split0_test_bal_accuracy': array([0.575]), 'split1_test_bal_accuracy': array([0.55454545]), 'split2_test_bal_accuracy': array([0.62727273]), 'split3_test_bal_accuracy': array([0.46818182]), 'split4_test_bal_accuracy': array([0.53636364]), 'mean_test_bal_accuracy': array([0.55227273]), 'std_test_bal_accuracy': array([0.05190583]), 'rank_test_bal_accuracy': array([1], dtype=int32), 'split0_test_F1_macro': array([0.52492877]), 'split1_test_F1_macro': array([0.48935847]), 'split2_test_F1_macro': array([0.60290921]), 'split3_test_F1_macro': array([0.45208333]), 'split4_test_F1_macro': array([0.47943723]), 'mean_test_F1_macro': array([0.5097434]), 'std_test_F1_macro': array([0.05209444]), 'rank_test_F1_macro': array([1], dtype=int32)}\n"
     ]
    }
   ],
   "source": [
    "# print the grid search cross-validation results listing the above mentioned evaluation methods (3)\n",
    "print(\"Support Vector Machine Results: \", gscv_svm.cv_results_)\n",
    "print(\"Decision Trees Results: \", gscv_dtc.cv_results_)\n",
    "print(\"Random Forests Results: \", gscv_rfc.cv_results_)\n",
    "print(\"Naive Bayes Results: \", gscv_gnb.cv_results_)"
   ]
  },
  {
   "cell_type": "code",
   "execution_count": 13,
   "metadata": {},
   "outputs": [
    {
     "output_type": "stream",
     "name": "stdout",
     "text": [
      "              precision    recall  f1-score   support\n\n           0       0.77      0.83      0.80        12\n           1       0.69      0.85      0.76        13\n           2       0.81      0.93      0.87        14\n           3       0.86      0.46      0.60        13\n\n    accuracy                           0.77        52\n   macro avg       0.78      0.77      0.76        52\nweighted avg       0.78      0.77      0.76        52\n\n[[10  1  0  1]\n [ 1 11  1  0]\n [ 0  1 13  0]\n [ 2  3  2  6]]\n"
     ]
    }
   ],
   "source": [
    "# Predicting with test data\n",
    "\n",
    "test_data_transformed = pd.DataFrame(num_pipeline.fit_transform(x_test), columns=columns_transformed)\n",
    "\n",
    "# obtain predictions on test data using the best model from GridSearchCV (i.e., .best_estimator_) (2)\n",
    "predict_labels_rfc = gscv_rfc.predict(test_data_transformed)\n",
    "\n",
    "# generate the classification report and the confusion matrix for test predictions (3)\n",
    "print(classification_report(y_test, predict_labels_rfc))\n",
    "print(confusion_matrix(y_test, predict_labels_rfc))\n"
   ]
  },
  {
   "cell_type": "markdown",
   "metadata": {},
   "source": [
    "In a table format, report the train and test results you have obtained for all 4 models. Your table must include the following columns: (6)\n",
    "- model\n",
    "- best parameters (train)\n",
    "- best accuracy (train)\n",
    "- best f1_macro (train)\n",
    "- best accuracy (test)\n",
    "- best f1_macro (test)"
   ]
  },
  {
   "cell_type": "code",
   "execution_count": 18,
   "metadata": {},
   "outputs": [
    {
     "output_type": "stream",
     "name": "stdout",
     "text": [
      "                      Model  \\\n0                       SVM   \n1             Decision Tree   \n2  Random Forest Classifier   \n3               Naive Bayes   \n\n                             Best Parameters (train)  Best accuracy (train)  \\\n0  {'model__C': 500, 'model__gamma': 0.001, 'mode...               0.634611   \n1  {'model__max_depth': 5, 'model__min_samples_le...               0.494657   \n2  {'model__bootstrap': True, 'model__max_depth':...               0.649013   \n3                                                 {}               0.547619   \n\n   Best F1 Macro (train)  Best Accuracy (test)  Best F1 Macro (test)  \n0               0.624296              0.769231              0.765609  \n1               0.486439              0.596154              0.590030  \n2               0.643345              0.769231              0.756322  \n3               0.509743              0.711538              0.709358  \n"
     ]
    }
   ],
   "source": [
    "# generate test results for other models \n",
    "predict_labels_svm = gscv_svm.predict(test_data_transformed)\n",
    "predict_labels_dtc = gscv_dtc.predict(test_data_transformed)\n",
    "predict_labels_gnb = gscv_gnb.predict(test_data_transformed)\n",
    "\n",
    "results = {\n",
    "    'Model': ['SVM', 'Decision Tree', 'Random Forest Classifier', 'Naive Bayes'], \n",
    "    'Best Parameters (train)': [gscv_svm.best_params_, gscv_dtc.best_params_, gscv_rfc.best_params_, gscv_gnb.best_params_],\n",
    "    'Best accuracy (train)':[max(gscv_svm.cv_results_['mean_test_accuracy']), max(gscv_dtc.cv_results_['mean_test_accuracy']), max(gscv_rfc.cv_results_['mean_test_accuracy']), max(gscv_gnb.cv_results_['mean_test_accuracy'])],\n",
    "    'Best F1 Macro (train)': [max(gscv_svm.cv_results_['mean_test_F1_macro']), max(gscv_dtc.cv_results_['mean_test_F1_macro']), max(gscv_rfc.cv_results_['mean_test_F1_macro']), max(gscv_gnb.cv_results_['mean_test_F1_macro'])],\n",
    "    'Best Accuracy (test)': [accuracy_score(y_test, predict_labels_svm), accuracy_score(y_test, predict_labels_dtc), accuracy_score(y_test, predict_labels_rfc), accuracy_score(y_test, predict_labels_gnb)],\n",
    "    'Best F1 Macro (test)': [f1_score(y_test, predict_labels_svm, average='macro'), f1_score(y_test, predict_labels_dtc, average='macro'), f1_score(y_test, predict_labels_rfc, average='macro'), f1_score(y_test, predict_labels_gnb, average='macro')]\n",
    "}\n",
    "\n",
    "table = pd.DataFrame(results)\n",
    "print(table)"
   ]
  }
 ],
 "metadata": {
  "interpreter": {
   "hash": "fcacb1169d0317e97b762e0c1a317633c556cb59cb1017287d7e24b96b766e04"
  },
  "kernelspec": {
   "name": "python3",
   "display_name": "Python 3.9.1 64-bit",
   "metadata": {
    "interpreter": {
     "hash": "aee8b7b246df8f9039afb4144a1f6fd8d2ca17a180786b69acc140d282b71a49"
    }
   }
  },
  "language_info": {
   "codemirror_mode": {
    "name": "ipython",
    "version": 3
   },
   "file_extension": ".py",
   "mimetype": "text/x-python",
   "name": "python",
   "nbconvert_exporter": "python",
   "pygments_lexer": "ipython3",
   "version": "3.9.1-final"
  },
  "orig_nbformat": 4
 },
 "nbformat": 4,
 "nbformat_minor": 2
}